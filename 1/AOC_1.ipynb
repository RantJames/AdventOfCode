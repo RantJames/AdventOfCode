{
 "cells": [
  {
   "cell_type": "code",
   "execution_count": 86,
   "id": "b7c06c99",
   "metadata": {},
   "outputs": [],
   "source": [
    "import pandas as pd\n",
    "import numpy as np"
   ]
  },
  {
   "cell_type": "code",
   "execution_count": 12,
   "id": "791cb39f",
   "metadata": {},
   "outputs": [],
   "source": [
    "inp = pd.read_csv(\"input.txt\", sep = '\\n\\n', engine = 'python')"
   ]
  },
  {
   "cell_type": "code",
   "execution_count": 64,
   "id": "1e11a800",
   "metadata": {},
   "outputs": [],
   "source": [
    "with open('input.txt') as f:\n",
    "    lines = f.readlines()"
   ]
  },
  {
   "cell_type": "code",
   "execution_count": 65,
   "id": "91197cf7",
   "metadata": {},
   "outputs": [],
   "source": [
    "inp_ser = pd.Series(lines)"
   ]
  },
  {
   "cell_type": "code",
   "execution_count": 141,
   "id": "3b427c38",
   "metadata": {},
   "outputs": [],
   "source": [
    "input_series = pd.Series([inp_ser.str.split(\"\\n\")[i][0] for i in range(2236)])"
   ]
  },
  {
   "cell_type": "code",
   "execution_count": 142,
   "id": "c7b6389c",
   "metadata": {},
   "outputs": [],
   "source": [
    "input_series.replace(['', None], 0, inplace = True)"
   ]
  },
  {
   "cell_type": "code",
   "execution_count": 143,
   "id": "6f945909",
   "metadata": {},
   "outputs": [],
   "source": [
    "input_series = input_series.astype(int)"
   ]
  },
  {
   "cell_type": "code",
   "execution_count": 149,
   "id": "de5ec1d6",
   "metadata": {},
   "outputs": [],
   "source": [
    "cal_list = []\n",
    "cal_sum = 0\n",
    "for i in range(len(input_series)):\n",
    "    cal_sum = cal_sum + (input_series[i])\n",
    "    #print(f\"cal sum is {cal_sum}\")\n",
    "    if input_series[i] == 0:\n",
    "        cal_list.append(cal_sum)\n",
    "        #print(f\"cal_list is {cal_list}\")\n",
    "        cal_sum = 0\n",
    "    else:\n",
    "        continue\n",
    "        "
   ]
  },
  {
   "cell_type": "code",
   "execution_count": 151,
   "id": "ebe74607",
   "metadata": {},
   "outputs": [],
   "source": [
    "cal_list.sort(reverse = True)"
   ]
  },
  {
   "cell_type": "code",
   "execution_count": 155,
   "id": "602eaf4c",
   "metadata": {},
   "outputs": [
    {
     "data": {
      "text/plain": [
       "68787"
      ]
     },
     "execution_count": 155,
     "metadata": {},
     "output_type": "execute_result"
    }
   ],
   "source": [
    "cal_list[0]"
   ]
  },
  {
   "cell_type": "code",
   "execution_count": 153,
   "id": "6e546ed7",
   "metadata": {},
   "outputs": [],
   "source": [
    "top_three = cal_list[0] + cal_list[1] + cal_list[2]"
   ]
  },
  {
   "cell_type": "code",
   "execution_count": 154,
   "id": "2b1901f1",
   "metadata": {},
   "outputs": [
    {
     "data": {
      "text/plain": [
       "198041"
      ]
     },
     "execution_count": 154,
     "metadata": {},
     "output_type": "execute_result"
    }
   ],
   "source": [
    "top_three"
   ]
  }
 ],
 "metadata": {
  "kernelspec": {
   "display_name": "Python 3 (ipykernel)",
   "language": "python",
   "name": "python3"
  },
  "language_info": {
   "codemirror_mode": {
    "name": "ipython",
    "version": 3
   },
   "file_extension": ".py",
   "mimetype": "text/x-python",
   "name": "python",
   "nbconvert_exporter": "python",
   "pygments_lexer": "ipython3",
   "version": "3.10.8"
  }
 },
 "nbformat": 4,
 "nbformat_minor": 5
}
